{
 "cells": [
  {
   "cell_type": "code",
   "execution_count": 1,
   "metadata": {},
   "outputs": [],
   "source": [
    "import sys\n",
    "import numpy as np\n",
    "import cv2"
   ]
  },
  {
   "cell_type": "code",
   "execution_count": 2,
   "metadata": {},
   "outputs": [],
   "source": [
    "oldx, oldy = -1, -1\n",
    "\n",
    "# 마우스에 대한 콜백처리 함수\n",
    "def on_mouse(event, x, y, flags, _):\n",
    "   global oldx, oldy\n",
    "\n",
    "   if event == cv2.EVENT_LBUTTONDOWN:\n",
    "      oldx, oldy = x, y\n",
    "\n",
    "   elif event == cv2.EVENT_LBUTTONUP:\n",
    "      oldx, oldy = -1, -1\n",
    "\n",
    "   elif event == cv2.EVENT_MOUSEMOVE:\n",
    "      if flags & cv2.EVENT_FLAG_LBUTTON:\n",
    "         cv2.line(img, (oldx, oldy), (x, y), (255, 255, 255), 40, cv2.LINE_AA)\n",
    "         oldx, oldy = x, y\n",
    "         cv2.imshow('img', img)"
   ]
  },
  {
   "cell_type": "code",
   "execution_count": 3,
   "metadata": {},
   "outputs": [],
   "source": [
    "# 학습 & label 행렬 생성\n",
    "\n",
    "digits = cv2.imread('./digits.png', cv2.IMREAD_GRAYSCALE)\n",
    "\n",
    "if digits is None:\n",
    "    print('Image load failed!')\n",
    "    sys.exit()\n",
    "\n",
    "h, w = digits.shape[:2]\n",
    "# 여기서 h = 1000(20x50), w = 2000(20x100)\n",
    "\n",
    "# 각각의 부분 영상을 잘라내는 코드\n",
    "cells = [np.hsplit(row, w//20) for row in np.vsplit(digits, h//20)]\n",
    "# h/20 = 50 (세로 50개의 숫자)   w/20 = 100 (가로 100개의 숫자)\n",
    "# 여기서 cells 는 list 형태로 저장된다\n",
    "\n",
    "cells = np.array(cells)\n",
    "# list의 형태였던 것을 array 형태로 변환\n",
    "\n",
    "train_images = cells.reshape(-1, 400).astype(np.float32)\n",
    "# 20X20짜리 행렬을 400X1 행렬로 reshape\n",
    "\n",
    "train_labels = np.repeat(np.arange(10), len(train_images)/10)\n",
    "# 정답에 해당하는 label을 지정해 주는 코드"
   ]
  },
  {
   "cell_type": "code",
   "execution_count": 4,
   "metadata": {},
   "outputs": [
    {
     "data": {
      "text/plain": [
       "True"
      ]
     },
     "execution_count": 4,
     "metadata": {},
     "output_type": "execute_result"
    }
   ],
   "source": [
    "# KNN 학습\n",
    "\n",
    "knn = cv2.ml.KNearest_create()\n",
    "knn.train(train_images, cv2.ml.ROW_SAMPLE, train_labels)"
   ]
  },
  {
   "cell_type": "code",
   "execution_count": 5,
   "metadata": {},
   "outputs": [
    {
     "name": "stdout",
     "output_type": "stream",
     "text": [
      "1\n",
      "1\n",
      "2\n",
      "3\n"
     ]
    }
   ],
   "source": [
    "# 사용자 입력 영상에 대해 예측\n",
    "\n",
    "img = np.zeros((400, 400), np.uint8)\n",
    "# 400X400 비어있는 영상\n",
    "\n",
    "cv2.imshow('img', img)\n",
    "cv2.setMouseCallback('img', on_mouse)\n",
    "# 마우스 콜백 함수 등록\n",
    "\n",
    "while True:\n",
    "    key = cv2.waitKey()\n",
    "\n",
    "    if key == 27:\n",
    "        break\n",
    "    elif key == ord(' '):\n",
    "        test_image = cv2.resize(img, (20, 20), interpolation=cv2.INTER_AREA)\n",
    "        test_image = test_image.reshape(-1, 400).astype(np.float32)\n",
    "\n",
    "        ret, _, _, _ = knn.findNearest(test_image, 5)\n",
    "        # test_image의 값을 knn알고리즘에 넣고 가장 가까운 5개(k=5)의 글자를 찾아, 어떤 숫자에 해당하는지 찾는다 \n",
    "        # test로 준 test_image 샘플은 하나이기 때문에 res 두 번째 행렬로 안받고 return값 ret로 받아서 \n",
    "        print(int(ret))\n",
    "        # 정수로 출력\n",
    "\n",
    "        img.fill(0)\n",
    "        # 출력 후에는 다시 화면을 까맣게 채워준다\n",
    "        cv2.imshow('img', img)\n",
    "\n",
    "cv2.destroyAllWindows()"
   ]
  },
  {
   "cell_type": "code",
   "execution_count": null,
   "metadata": {},
   "outputs": [],
   "source": []
  }
 ],
 "metadata": {
  "interpreter": {
   "hash": "2458de2d926de3357de71edcadc8689020b5d26af06c9a44e98af4bc22ee6301"
  },
  "kernelspec": {
   "display_name": "Python 3.9.9 ('mini_env')",
   "language": "python",
   "name": "python3"
  },
  "language_info": {
   "codemirror_mode": {
    "name": "ipython",
    "version": 3
   },
   "file_extension": ".py",
   "mimetype": "text/x-python",
   "name": "python",
   "nbconvert_exporter": "python",
   "pygments_lexer": "ipython3",
   "version": "3.9.9"
  },
  "orig_nbformat": 4
 },
 "nbformat": 4,
 "nbformat_minor": 2
}
